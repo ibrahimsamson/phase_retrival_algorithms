{
 "cells": [
  {
   "cell_type": "code",
   "execution_count": null,
   "metadata": {},
   "outputs": [],
   "source": [
    "%matplotlib inline\n",
    "import matplotlib.pyplot as plt\n",
    "import numpy as np\n",
    "import time\n",
    "from skimage import io, color, transform\n",
    "\n",
    "\n",
    "\n",
    "\n",
    "\n",
    "\n"
   ]
  },
  {
   "cell_type": "code",
   "execution_count": null,
   "metadata": {},
   "outputs": [],
   "source": []
  },
  {
   "cell_type": "code",
   "execution_count": null,
   "metadata": {},
   "outputs": [],
   "source": [
    "\n",
    "Nx = 64\n",
    "Ny = 64\n",
    "url1 = 'https://www.safetysign.com/images/source/page-list-pages/productgrid-n-t/Y1249.png'\n",
    "# url = io.imread(\"../media/src/caution1.png\", format = 'PNG')\n",
    "x_true = io.imread(url1)\n",
    "\n",
    "x_true = color.rgba2rgb(x_true)\n",
    "x_true = color.rgb2gray(x_true)\n",
    "x_true = transform.resize(x_true, (Nx, Ny))\n",
    "x_true = x_true/np.max(x_true)\n",
    "x_true[x_true < 1e-1] = 0 \n",
    "fig = plt.figure(figsize=(8,6))\n",
    "ax = fig.add_subplot(111)\n",
    "im = ax.imshow(x_true, interpolation='nearest')\n",
    "ax.set_title('Input image')\n",
    "\n",
    "plt.show()\n"
   ]
  },
  {
   "cell_type": "code",
   "execution_count": null,
   "metadata": {},
   "outputs": [],
   "source": [
    "\n",
    "#  Now take the Fourier transform of the cat\n",
    "X_true = np.fft.fftn(x_true)\n",
    "M_true = np.abs(X_true)\n",
    "\n",
    "# Make initial support\n",
    "supp = np.zeros([Nx,Ny])\n",
    "supp[16:48,16:48] = 1\n",
    "\n",
    "fig = plt.figure(figsize=(16,6))\n",
    "ax = fig.add_subplot(121)\n",
    "im = ax.imshow(supp, interpolation='nearest')\n",
    "ax.set_title('Initial Support')\n",
    "ax = fig.add_subplot(122)\n",
    "im = ax.imshow(np.fft.fftshift(M_true), interpolation='nearest')\n",
    "ax.set_title('Fourier magnitude data')\n",
    "\n",
    "plt.show()\n"
   ]
  },
  {
   "cell_type": "code",
   "execution_count": null,
   "metadata": {},
   "outputs": [],
   "source": [
    "\n",
    "# Define the projectors\n",
    "def P_S(x, S_in):\n",
    "    x_new = x*S_in['supp']\n",
    "    return x_new\n",
    "\n",
    "def P_M(x, M_in):\n",
    "    X = np.fft.fftn(x)\n",
    "    X_new = X/(np.abs(X)) * M_in['M_data']\n",
    "    x_new = np.fft.ifftn(X_new)\n",
    "    return x_new\n",
    "def R_M(x, gamma_M, M_in):\n",
    "    return (1+gamma_M)*P_M(x, M_in) - gamma_M*x\n",
    "\n",
    "def R_S(x, gamma_S, S_in):\n",
    "    return (1+gamma_S)*P_S(x, S_in) - gamma_S*x\n",
    "C = np.zeros([Nx,Ny])\n",
    "C = np.fft.fftshift(C)\n",
    "C[20:44,20:44] = 1 # Magic numbers\n",
    "C = np.fft.ifftshift(C)\n",
    "\n",
    "def low_pass_filter(x):\n",
    "    X = np.fft.fftn(x)\n",
    "    X_new = X * C\n",
    "    x_new = np.abs(np.fft.ifftn(X_new))\n",
    "    return x_new\n",
    "\n",
    "\n",
    "%matplotlib notebook\n",
    "\n",
    "\n"
   ]
  }
 ],
 "metadata": {
  "kernelspec": {
   "display_name": "Python 3.10.8 ('venv': venv)",
   "language": "python",
   "name": "python3"
  },
  "language_info": {
   "codemirror_mode": {
    "name": "ipython",
    "version": 3
   },
   "file_extension": ".py",
   "mimetype": "text/x-python",
   "name": "python",
   "nbconvert_exporter": "python",
   "pygments_lexer": "ipython3",
   "version": "3.10.8"
  },
  "orig_nbformat": 4,
  "vscode": {
   "interpreter": {
    "hash": "70e18499fa29aec359e84ce3232b6a3c44e883836586e6859570ae2e848492f5"
   }
  }
 },
 "nbformat": 4,
 "nbformat_minor": 2
}
